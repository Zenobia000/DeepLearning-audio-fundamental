{
 "cells": [
  {
   "cell_type": "code",
   "execution_count": 9,
   "metadata": {},
   "outputs": [
    {
     "name": "stdout",
     "output_type": "stream",
     "text": [
      "音訊已下載並保存為: downloads\\asiagodtone_audio.wav               \n",
      "切割後的音訊已保存為: downloads\\asiagodtone_sliced_audio.wav\n"
     ]
    }
   ],
   "source": [
    "import yt_dlp\n",
    "from pydub import AudioSegment\n",
    "import os\n",
    "\n",
    "def download_youtube_audio(url, download_folder=\"downloads\", output_filename=\"downloaded_audio.wav\"):\n",
    "    \"\"\"\n",
    "    從 YouTube 視頻下載音訊並保存為 WAV 格式\n",
    "    下載至指定路徑，若路徑不存在則創建\n",
    "    \"\"\"\n",
    "    try:\n",
    "        # 檢查並創建目錄（如果不存在）\n",
    "        if not os.path.exists(download_folder):\n",
    "            os.makedirs(download_folder)\n",
    "\n",
    "        # 設定完整輸出路徑\n",
    "        output_path = os.path.join(download_folder, output_filename)\n",
    "\n",
    "        # 設定 yt-dlp 選項，下載音訊並保存為 WAV 格式\n",
    "        ydl_opts = {\n",
    "            'format': 'bestaudio/best',\n",
    "            'outtmpl': os.path.join(download_folder, '%(title)s.%(ext)s'),  # 使用視頻標題作為檔案名稱，保存至指定目錄\n",
    "            'restrictfilenames': True,       # 限制檔案名稱中的特殊字元\n",
    "            'postprocessors': [{\n",
    "                'key': 'FFmpegExtractAudio',\n",
    "                'preferredcodec': 'wav',     # 指定轉換為 WAV 格式\n",
    "                'preferredquality': '0',     # 對於無損格式，品質設為 '0'（最佳）\n",
    "            }],\n",
    "            'quiet': True,  # 不輸出下載過程信息\n",
    "        }\n",
    "\n",
    "        # 使用 yt-dlp 下載音訊並直接保存為 WAV 格式\n",
    "        with yt_dlp.YoutubeDL(ydl_opts) as ydl:\n",
    "            result = ydl.extract_info(url, download=True)\n",
    "            # 取得下載後的檔案名稱\n",
    "            filename = ydl.prepare_filename(result)\n",
    "            # 更改副檔名為 .wav 並將檔案移動到指定的 output_path\n",
    "            filename = os.path.splitext(filename)[0] + '.wav'\n",
    "            os.rename(filename, output_path)\n",
    "\n",
    "        return output_path\n",
    "    except Exception as e:\n",
    "        print(f\"下載音訊時出錯: {e}\")\n",
    "        return None\n",
    "\n",
    "def slice_audio(input_file, start_time, end_time, output_file=None, download_folder=\"downloads\"):\n",
    "    \"\"\"\n",
    "    切割音訊檔案，並將切割後的檔案保存到指定目錄\n",
    "    start_time 和 end_time 以毫秒為單位\n",
    "    output_file：切割後檔案的名稱\n",
    "    \"\"\"\n",
    "    try:\n",
    "        # 檢查並創建目錄（如果不存在）\n",
    "        if not os.path.exists(download_folder):\n",
    "            os.makedirs(download_folder)\n",
    "\n",
    "        # 如果沒有指定輸出檔案名稱，使用預設名稱\n",
    "        if output_file is None:\n",
    "            output_file = \"sliced_audio.wav\"\n",
    "        \n",
    "        output_path = os.path.join(download_folder, output_file)\n",
    "\n",
    "        # 讀取並切割音訊\n",
    "        audio = AudioSegment.from_wav(input_file)\n",
    "        sliced_audio = audio[start_time:end_time]\n",
    "        sliced_audio.export(output_path, format=\"wav\")\n",
    "\n",
    "        return output_path\n",
    "    except Exception as e:\n",
    "        print(f\"切割音訊時出錯: {e}\")\n",
    "        return None\n",
    "\n",
    "\n",
    "# 使用範例\n",
    "if __name__ == \"__main__\":\n",
    "    video_url = \"https://www.youtube.com/watch?v=fIqg1-lcBjA\"\n",
    "    download_folder = \"downloads\"  # 統一保存到 downloads 目錄\n",
    "    download_filename = \"asiagodtone_audio.wav\"  # 自訂下載的檔案名稱\n",
    "    sliced_filename = \"asiagodtone_sliced_audio.wav\"  # 自訂切割後檔案名稱\n",
    "\n",
    "    # 下載音訊\n",
    "    downloaded_audio = download_youtube_audio(video_url, download_folder, download_filename)\n",
    "    if downloaded_audio:\n",
    "        print(f\"音訊已下載並保存為: {downloaded_audio}\")\n",
    "\n",
    "        # 切割音訊（例如：從 27 秒到 30 秒）\n",
    "        sliced_audio = slice_audio(downloaded_audio, 27000, 30000, output_file=sliced_filename, download_folder=download_folder)\n",
    "        if sliced_audio:\n",
    "            print(f\"切割後的音訊已保存為: {sliced_audio}\")\n",
    "        else:\n",
    "            print(\"音訊切割失敗。\")\n",
    "    else:\n",
    "        print(\"音訊下載失敗。\")\n",
    "\n",
    "\n"
   ]
  },
  {
   "cell_type": "code",
   "execution_count": 10,
   "metadata": {},
   "outputs": [
    {
     "data": {
      "text/plain": [
       "<_io.BufferedRandom name='./downloads/asiagodtone_sliced_process.mp3'>"
      ]
     },
     "execution_count": 10,
     "metadata": {},
     "output_type": "execute_result"
    }
   ],
   "source": [
    "# brew install ffmpeg\n",
    "# pip install pydub\n",
    "from pydub import AudioSegment\n",
    "\n",
    "audio = AudioSegment.from_wav(\"./downloads/asiagodtone_sliced_audio.wav\")\n",
    "\n",
    "\n",
    "# boost volume by 6dB 增加音量\n",
    "audio = audio + 6\n",
    "\n",
    "# repeat the clip twice 重複兩次\n",
    "audio = audio * 4\n",
    "\n",
    "# 2 sec fade in 2 秒淡入效果\n",
    "audio = audio.fade_in(5000)\n",
    "\n",
    "audio.export(\"./downloads/asiagodtone_sliced_process.mp3\", format=\"mp3\")\n"
   ]
  }
 ],
 "metadata": {
  "kernelspec": {
   "display_name": "Python 3",
   "language": "python",
   "name": "python3"
  },
  "language_info": {
   "codemirror_mode": {
    "name": "ipython",
    "version": 3
   },
   "file_extension": ".py",
   "mimetype": "text/x-python",
   "name": "python",
   "nbconvert_exporter": "python",
   "pygments_lexer": "ipython3",
   "version": "3.11.9"
  }
 },
 "nbformat": 4,
 "nbformat_minor": 2
}
