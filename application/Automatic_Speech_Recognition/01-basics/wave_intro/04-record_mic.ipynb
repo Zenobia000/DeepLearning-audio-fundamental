{
 "cells": [
  {
   "cell_type": "markdown",
   "metadata": {},
   "source": [
    "## mic record and output wav file\n",
    "\n",
    "### 1. 採樣率的標準\n",
    "\n",
    "採樣率（Sampling Rate）指的是每秒鐘對音頻信號進行取樣的次數，以赫茲（Hz）為單位。常見的採樣率標準包括：\n",
    "\n",
    "- **8,000 Hz**：常用於電話語音，質量較低，適合人聲通話。\n",
    "- **16,000 Hz**：常用於語音識別和語音處理，能提供相對較高的語音清晰度。\n",
    "- **22,050 Hz**：接近於 FM 廣播質量。\n",
    "- **44,100 Hz**：CD 音質標準，這是音樂錄製和播放的常見採樣率，能夠保證較高的音質。\n",
    "- **48,000 Hz**：廣播電視和 DVD 音頻常用的採樣率，適合專業音頻處理。\n",
    "- **96,000 Hz**：高解析度音頻格式，用於專業錄音棚和音樂製作。\n",
    "- **192,000 Hz**：非常高解析度的音頻，通常用於頂級的音頻設備中。\n",
    "\n",
    "\n",
    "### 2. RATE / FRAMES_PER_BUFFER：\n",
    "\n",
    "這部分計算的是每秒需要讀取的幀數次數。\n",
    "\n",
    "具體來說，音頻的採樣率是 16000 Hz，也就是每秒有 16000 個樣本，而每次讀取的幀數是 3200。所以每秒需要讀取的次數為：\n",
    "\n",
    "\n",
    "**16000 / 3200 = 5**\n",
    "\n",
    "\n",
    "這表示每秒需要進行 5 次讀取。\n",
    "\n",
    "\n",
    "### 3. 單聲道（Mono）vs. 立體聲（Stereo）\n",
    "\n",
    "- 單聲道：只有一個聲道，聲音沒有方向性，所有聲音來源合併在一起。\n",
    "- 立體聲：有兩個聲道（左聲道和右聲道），可以提供方向性和空間感。\n"
   ]
  },
  {
   "cell_type": "code",
   "execution_count": null,
   "metadata": {},
   "outputs": [],
   "source": [
    "import pyaudio\n",
    "import wave\n",
    "\n",
    "FRAMES_PER_BUFFER = 3200\n",
    "FORMAT = pyaudio.paInt16\n",
    "CHANNELS = 1\n",
    "RATE = 16000\n",
    "p = pyaudio.PyAudio()\n",
    " \n",
    "# starts recording\n",
    "stream = p.open(\n",
    "   format=FORMAT,\n",
    "   channels=CHANNELS,\n",
    "   rate=RATE,\n",
    "   input=True,\n",
    "   frames_per_buffer=FRAMES_PER_BUFFER\n",
    ")\n",
    "\n",
    "print(\"start recording...\")\n",
    "\n",
    "frames = []\n",
    "seconds = 5\n",
    "for i in range(0, int(RATE / FRAMES_PER_BUFFER * seconds)):\n",
    "    data = stream.read(FRAMES_PER_BUFFER)\n",
    "    frames.append(data)\n",
    "\n",
    "print(\"recording stopped\")\n",
    "\n",
    "stream.stop_stream()\n",
    "stream.close()\n",
    "p.terminate()\n",
    "\n",
    "wf = wave.open(\"sunny_output.wav\", 'wb')\n",
    "wf.setnchannels(CHANNELS)\n",
    "wf.setsampwidth(p.get_sample_size(FORMAT))\n",
    "wf.setframerate(RATE)\n",
    "wf.writeframes(b''.join(frames))\n",
    "wf.close()\n"
   ]
  },
  {
   "cell_type": "code",
   "execution_count": 1,
   "metadata": {},
   "outputs": [
    {
     "name": "stdout",
     "output_type": "stream",
     "text": [
      "Device 0: Microsoft 音效對應表 - Input, Channels: 2\n",
      "Device 1: 耳機 (2- 魔王的AirPods Pro - Find My, Channels: 1\n",
      "Device 2: Microsoft 音效對應表 - Output, Channels: 0\n",
      "Device 3: 耳機 (2- 魔王的AirPods Pro - Find My, Channels: 0\n",
      "Device 4: BenQ GW2280 (HD Audio Driver fo, Channels: 0\n",
      "Device 5: Digital Audio (S/PDIF) (3- High, Channels: 0\n",
      "Device 6: BenQ BL2480T (NVIDIA High Defin, Channels: 0\n",
      "Device 7: 主要音效擷取驅動程式, Channels: 2\n",
      "Device 8: 耳機 (2- 魔王的AirPods Pro - Find My), Channels: 1\n",
      "Device 9: 主要音效驅動程式, Channels: 0\n",
      "Device 10: 耳機 (2- 魔王的AirPods Pro - Find My), Channels: 0\n",
      "Device 11: BenQ GW2280 (HD Audio Driver for Display Audio), Channels: 0\n",
      "Device 12: Digital Audio (S/PDIF) (3- High Definition Audio Device), Channels: 0\n",
      "Device 13: BenQ BL2480T (NVIDIA High Definition Audio), Channels: 0\n",
      "Device 14: BenQ GW2280 (HD Audio Driver for Display Audio), Channels: 0\n",
      "Device 15: 耳機 (2- 魔王的AirPods Pro - Find My), Channels: 0\n",
      "Device 16: Digital Audio (S/PDIF) (3- High Definition Audio Device), Channels: 0\n",
      "Device 17: BenQ BL2480T (NVIDIA High Definition Audio), Channels: 0\n",
      "Device 18: 耳機 (2- 魔王的AirPods Pro - Find My), Channels: 1\n",
      "Device 19: SPDIF Out (HD Audio SPDIF out), Channels: 0\n",
      "Device 20: BenQ GW2280 (ACX HD Audio Speaker), Channels: 0\n",
      "Device 21: Output (NVIDIA High Definition Audio), Channels: 0\n",
      "Device 22: 耳機 (), Channels: 0\n",
      "Device 23: 耳機 (@System32\\drivers\\bthhfenum.sys,#2;%1 Hands-Free%0\n",
      ";(魔王的AirPods Pro - Find My)), Channels: 0\n",
      "Device 24: 耳機 (@System32\\drivers\\bthhfenum.sys,#2;%1 Hands-Free%0\n",
      ";(魔王的AirPods Pro - Find My)), Channels: 1\n"
     ]
    }
   ],
   "source": [
    "import pyaudio\n",
    "\n",
    "p = pyaudio.PyAudio()\n",
    "\n",
    "# 列出所有音頻設備\n",
    "for i in range(p.get_device_count()):\n",
    "    device_info = p.get_device_info_by_index(i)\n",
    "    print(f\"Device {i}: {device_info['name']}, Channels: {device_info['maxInputChannels']}\")\n",
    "\n",
    "p.terminate()\n"
   ]
  },
  {
   "cell_type": "code",
   "execution_count": null,
   "metadata": {},
   "outputs": [],
   "source": []
  }
 ],
 "metadata": {
  "kernelspec": {
   "display_name": "Python 3",
   "language": "python",
   "name": "python3"
  },
  "language_info": {
   "codemirror_mode": {
    "name": "ipython",
    "version": 3
   },
   "file_extension": ".py",
   "mimetype": "text/x-python",
   "name": "python",
   "nbconvert_exporter": "python",
   "pygments_lexer": "ipython3",
   "version": "3.11.9"
  }
 },
 "nbformat": 4,
 "nbformat_minor": 2
}
