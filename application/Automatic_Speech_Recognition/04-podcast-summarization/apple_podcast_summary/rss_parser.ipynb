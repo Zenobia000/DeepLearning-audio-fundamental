{
 "cells": [
  {
   "cell_type": "markdown",
   "metadata": {},
   "source": [
    "https://www.listennotes.com/podcasts/the-how-of/537-is-your-small-business-nq8_pJ7Y-fH/"
   ]
  },
  {
   "cell_type": "code",
   "execution_count": 1,
   "metadata": {},
   "outputs": [
    {
     "name": "stdout",
     "output_type": "stream",
     "text": [
      "Collecting feedparser\n",
      "  Downloading feedparser-6.0.11-py3-none-any.whl.metadata (2.4 kB)\n",
      "Collecting sgmllib3k (from feedparser)\n",
      "  Downloading sgmllib3k-1.0.0.tar.gz (5.8 kB)\n",
      "  Preparing metadata (setup.py): started\n",
      "  Preparing metadata (setup.py): finished with status 'done'\n",
      "Downloading feedparser-6.0.11-py3-none-any.whl (81 kB)\n",
      "   ---------------------------------------- 0.0/81.3 kB ? eta -:--:--\n",
      "   --------------- ------------------------ 30.7/81.3 kB 1.4 MB/s eta 0:00:01\n",
      "   ---------------------------------------- 81.3/81.3 kB 1.1 MB/s eta 0:00:00\n",
      "Building wheels for collected packages: sgmllib3k\n",
      "  Building wheel for sgmllib3k (setup.py): started\n",
      "  Building wheel for sgmllib3k (setup.py): finished with status 'done'\n",
      "  Created wheel for sgmllib3k: filename=sgmllib3k-1.0.0-py3-none-any.whl size=6060 sha256=2b131fc4c11a06e5d2978efd71ef657afd890497a210955285f264cfcf15baa2\n",
      "  Stored in directory: c:\\users\\xdxd2\\appdata\\local\\pip\\cache\\wheels\\3b\\25\\2a\\105d6a15df6914f4d15047691c6c28f9052cc1173e40285d03\n",
      "Successfully built sgmllib3k\n",
      "Installing collected packages: sgmllib3k, feedparser\n",
      "Successfully installed feedparser-6.0.11 sgmllib3k-1.0.0\n"
     ]
    },
    {
     "name": "stderr",
     "output_type": "stream",
     "text": [
      "\n",
      "[notice] A new release of pip is available: 24.1.1 -> 24.2\n",
      "[notice] To update, run: python.exe -m pip install --upgrade pip\n"
     ]
    }
   ],
   "source": [
    "!pip install feedparser"
   ]
  },
  {
   "cell_type": "code",
   "execution_count": 2,
   "metadata": {},
   "outputs": [],
   "source": [
    "import requests\n",
    "import json\n",
    "from pprint import pp"
   ]
  },
  {
   "cell_type": "code",
   "execution_count": 10,
   "metadata": {},
   "outputs": [
    {
     "name": "stdout",
     "output_type": "stream",
     "text": [
      "The number of podcast entries is  544\n"
     ]
    }
   ],
   "source": [
    "import feedparser\n",
    "\n",
    "podcast_feed_url = \"https://howofbusiness.libsyn.com/rss\"\n",
    "podcast_feed = feedparser.parse(podcast_feed_url)\n",
    "print (\"The number of podcast entries is \", len(podcast_feed.entries))"
   ]
  },
  {
   "cell_type": "code",
   "execution_count": 11,
   "metadata": {},
   "outputs": [
    {
     "name": "stdout",
     "output_type": "stream",
     "text": [
      "最小的 Podcast 集數: 534: Before You Spend on Marketing...\n",
      "下載 URL: https://pdcn.co/e/dts.podtrac.com/redirect.mp3/pscrb.fm/rss/p/traffic.libsyn.com/secure/howofbusiness/Episode_534_-_Before_Marketing.mp3?dest-id=346019\n"
     ]
    }
   ],
   "source": [
    "# 初始化變數來追蹤最小的音訊檔案\n",
    "episode_length = 999999999\n",
    "episode_title = ''\n",
    "episode_url = ''\n",
    "\n",
    "# 遍歷前 10 筆 Podcast 資訊，找出最小的音訊檔案\n",
    "for item in podcast_feed.entries[0:10]:\n",
    "    for link in item.links:\n",
    "        if link['type'] == 'audio/mpeg':  # 確認檔案類型是音訊\n",
    "            if int(link['length']) < episode_length:  # 比較檔案大小\n",
    "                episode_url = link['href']\n",
    "                episode_length = int(link['length'])\n",
    "                episode_title = item.title\n",
    "\n",
    "# 輸出最小檔案的標題和 URL\n",
    "print(f\"最小的 Podcast 集數: {episode_title}\")\n",
    "print(f\"下載 URL: {episode_url}\")"
   ]
  },
  {
   "cell_type": "code",
   "execution_count": 8,
   "metadata": {},
   "outputs": [
    {
     "name": "stdout",
     "output_type": "stream",
     "text": [
      "{'title': '537: Is Your Small Business Profitable?', 'title_detail': {'type': 'text/plain', 'language': None, 'base': 'https://howofbusiness.libsyn.com/rss', 'value': '537: Is Your Small Business Profitable?'}, 'itunes_title': 'Is Your Small Business Profitable?', 'published': 'Mon, 09 Sep 2024 07:00:00 +0000', 'published_parsed': time.struct_time(tm_year=2024, tm_mon=9, tm_mday=9, tm_hour=7, tm_min=0, tm_sec=0, tm_wday=0, tm_yday=253, tm_isdst=0), 'id': '4642d370-7464-4b06-ba9a-af4521575487', 'guidislink': False, 'links': [{'rel': 'alternate', 'type': 'text/html', 'href': 'https://sites.libsyn.com/77073/537-is-your-small-business-profitable'}, {'length': '21465131', 'type': 'audio/mpeg', 'href': 'https://pdcn.co/e/dts.podtrac.com/redirect.mp3/pscrb.fm/rss/p/traffic.libsyn.com/secure/howofbusiness/Episode_537_-_Profitable_Small_Business.mp3?dest-id=346019', 'rel': 'enclosure'}], 'link': 'https://sites.libsyn.com/77073/537-is-your-small-business-profitable', 'summary': '<p class=\"MsoNormal\"><span class=\"yt-core-attributed-string--link-inherit-color\"><span style=\"color: #131313; padding: 0in;\"> Is your small business profitable, and is the business consistently and sufficiently profitable?</span></span></p> <p class=\"MsoNormal\"><span><strong>Show Notes Page:</strong></span> <a href=\"https://www.thehowofbusiness.com/537-profitable-small-business/\"><span> https://www.thehowofbusiness.com/537-profitable-small-business/</span></a></p> <p class=\"MsoNormal\"><span class=\"yt-core-attributed-string--link-inherit-color\"><span style=\"color: #131313; padding: 0in;\"> And if you’ve not started your business yet, when do you plan to be profitable?</span></span></p> <p class=\"MsoNormal\"><span class=\"yt-core-attributed-string--link-inherit-color\"><span style=\"color: #131313; padding: 0in;\"> On a previous episode of The How of Business podcast, episode 532, Henry Lopez addresses higher-level question: Is Your Business Model Broken? How can you tell, and how do you fix it?</span></span></p> <p class=\"MsoNormal\"><span class=\"yt-core-attributed-string--link-inherit-color\"><span style=\"color: #131313; padding: 0in;\"> A strong and healthy business model supports a business that is consistently profitable, can scale and remains competitive.</span></span></p> <p class=\"MsoNormal\"><span class=\"yt-core-attributed-string--link-inherit-color\"><span style=\"color: #131313; padding: 0in;\"> On this episode Henry Lopez shares additional thoughts on Profitability. Because generating a consistent and sufficient profit is the primary reason we are in a for-profit business!</span></span></p> <p class=\"MsoNormal\"><span class=\"yt-core-attributed-string--link-inherit-color\"><span style=\"color: #131313; padding: 0in;\"> This episode is hosted by Henry Lopez. The How of Business podcast focuses on helping you start, run and grow your small business. The How of Business is a top-rated podcast for small business and entrepreneurs. Find the best podcast, small business coaching, resources and trusted service partners for small business owners and entrepreneurs at our website</span></span> <a href=\"https://www.youtube.com/redirect?event=video_description&amp;redir_token=QUFFLUhqbEJyUnNuemVTYTRuMFJBbENMS3BuLUNUOHBld3xBQ3Jtc0ttRDdSbWxISVBPT0J5VE1hdnJiVmo3VVFUNFRqNG1ya0x2YXRKcU40cHZUdnRnLU9PWUVRWmduc1RfVS1CSExtWUhTUHVmR29vb3M4RDBGYmtKQndXX2Jtc1R4SGNnNjJLNGFxaHBHV3FtbnhVSDBJdw&amp;q=https%3A%2F%2FTheHowOfBusiness.com%2F&amp;v=_DUqmLHDHQM\" rel=\"noopener\" target=\"_blank\"><span style=\"padding: 0in;\"> https://TheHowOfBusiness.com</span></a></p>', 'summary_detail': {'type': 'text/html', 'language': None, 'base': 'https://howofbusiness.libsyn.com/rss', 'value': '<p class=\"MsoNormal\"><span class=\"yt-core-attributed-string--link-inherit-color\"><span style=\"color: #131313; padding: 0in;\"> Is your small business profitable, and is the business consistently and sufficiently profitable?</span></span></p> <p class=\"MsoNormal\"><span><strong>Show Notes Page:</strong></span> <a href=\"https://www.thehowofbusiness.com/537-profitable-small-business/\"><span> https://www.thehowofbusiness.com/537-profitable-small-business/</span></a></p> <p class=\"MsoNormal\"><span class=\"yt-core-attributed-string--link-inherit-color\"><span style=\"color: #131313; padding: 0in;\"> And if you’ve not started your business yet, when do you plan to be profitable?</span></span></p> <p class=\"MsoNormal\"><span class=\"yt-core-attributed-string--link-inherit-color\"><span style=\"color: #131313; padding: 0in;\"> On a previous episode of The How of Business podcast, episode 532, Henry Lopez addresses higher-level question: Is Your Business Model Broken? How can you tell, and how do you fix it?</span></span></p> <p class=\"MsoNormal\"><span class=\"yt-core-attributed-string--link-inherit-color\"><span style=\"color: #131313; padding: 0in;\"> A strong and healthy business model supports a business that is consistently profitable, can scale and remains competitive.</span></span></p> <p class=\"MsoNormal\"><span class=\"yt-core-attributed-string--link-inherit-color\"><span style=\"color: #131313; padding: 0in;\"> On this episode Henry Lopez shares additional thoughts on Profitability. Because generating a consistent and sufficient profit is the primary reason we are in a for-profit business!</span></span></p> <p class=\"MsoNormal\"><span class=\"yt-core-attributed-string--link-inherit-color\"><span style=\"color: #131313; padding: 0in;\"> This episode is hosted by Henry Lopez. The How of Business podcast focuses on helping you start, run and grow your small business. The How of Business is a top-rated podcast for small business and entrepreneurs. Find the best podcast, small business coaching, resources and trusted service partners for small business owners and entrepreneurs at our website</span></span> <a href=\"https://www.youtube.com/redirect?event=video_description&amp;redir_token=QUFFLUhqbEJyUnNuemVTYTRuMFJBbENMS3BuLUNUOHBld3xBQ3Jtc0ttRDdSbWxISVBPT0J5VE1hdnJiVmo3VVFUNFRqNG1ya0x2YXRKcU40cHZUdnRnLU9PWUVRWmduc1RfVS1CSExtWUhTUHVmR29vb3M4RDBGYmtKQndXX2Jtc1R4SGNnNjJLNGFxaHBHV3FtbnhVSDBJdw&amp;q=https%3A%2F%2FTheHowOfBusiness.com%2F&amp;v=_DUqmLHDHQM\" rel=\"noopener\" target=\"_blank\"><span style=\"padding: 0in;\"> https://TheHowOfBusiness.com</span></a></p>'}, 'content': [{'type': 'text/html', 'language': None, 'base': 'https://howofbusiness.libsyn.com/rss', 'value': '<p class=\"MsoNormal\"> Is your small business profitable, and is the business consistently and sufficiently profitable?</p> <p class=\"MsoNormal\">Show Notes Page: <a href=\"https://www.thehowofbusiness.com/537-profitable-small-business/\"> https://www.thehowofbusiness.com/537-profitable-small-business/</a></p> <p class=\"MsoNormal\"> And if you’ve not started your business yet, when do you plan to be profitable?</p> <p class=\"MsoNormal\"> On a previous episode of The How of Business podcast, episode 532, Henry Lopez addresses higher-level question: Is Your Business Model Broken? How can you tell, and how do you fix it?</p> <p class=\"MsoNormal\"> A strong and healthy business model supports a business that is consistently profitable, can scale and remains competitive.</p> <p class=\"MsoNormal\"> On this episode Henry Lopez shares additional thoughts on Profitability. Because generating a consistent and sufficient profit is the primary reason we are in a for-profit business!</p> <p class=\"MsoNormal\"> This episode is hosted by Henry Lopez. The How of Business podcast focuses on helping you start, run and grow your small business. The How of Business is a top-rated podcast for small business and entrepreneurs. Find the best podcast, small business coaching, resources and trusted service partners for small business owners and entrepreneurs at our website <a href=\"https://www.youtube.com/redirect?event=video_description&amp;redir_token=QUFFLUhqbEJyUnNuemVTYTRuMFJBbENMS3BuLUNUOHBld3xBQ3Jtc0ttRDdSbWxISVBPT0J5VE1hdnJiVmo3VVFUNFRqNG1ya0x2YXRKcU40cHZUdnRnLU9PWUVRWmduc1RfVS1CSExtWUhTUHVmR29vb3M4RDBGYmtKQndXX2Jtc1R4SGNnNjJLNGFxaHBHV3FtbnhVSDBJdw&amp;q=https%3A%2F%2FTheHowOfBusiness.com%2F&amp;v=_DUqmLHDHQM\" rel=\"noopener\" target=\"_blank\"> https://TheHowOfBusiness.com</a></p>'}], 'itunes_duration': '22:08', 'itunes_explicit': None, 'tags': [{'term': 'podcast', 'scheme': 'http://www.itunes.com/', 'label': None}, {'term': 'small business', 'scheme': 'http://www.itunes.com/', 'label': None}], 'subtitle': 'Is your small business profitable, and is the business consistently and sufficiently profitable? Show Notes Page:   And if you’ve not started your business yet, when do you plan to be profitable?  On a previous episode of The How of Business...', 'subtitle_detail': {'type': 'text/plain', 'language': None, 'base': 'https://howofbusiness.libsyn.com/rss', 'value': 'Is your small business profitable, and is the business consistently and sufficiently profitable? Show Notes Page:   And if you’ve not started your business yet, when do you plan to be profitable?  On a previous episode of The How of Business...'}, 'itunes_episode': '537', 'itunes_episodetype': 'full', 'authors': [{'name': 'Henry Lopez'}], 'author': 'Henry Lopez', 'author_detail': {'name': 'Henry Lopez'}}\n"
     ]
    }
   ],
   "source": [
    "# 挑個檔案最小的那筆\n",
    "episode_length = 999999999\n",
    "episode_title = ''\n",
    "for item in podcast_feed.entries[0:10]:\n",
    "  \n",
    "    print(item)\n",
    "\n",
    "    break\n"
   ]
  },
  {
   "cell_type": "markdown",
   "metadata": {},
   "source": []
  }
 ],
 "metadata": {
  "kernelspec": {
   "display_name": "Python 3",
   "language": "python",
   "name": "python3"
  },
  "language_info": {
   "codemirror_mode": {
    "name": "ipython",
    "version": 3
   },
   "file_extension": ".py",
   "mimetype": "text/x-python",
   "name": "python",
   "nbconvert_exporter": "python",
   "pygments_lexer": "ipython3",
   "version": "3.11.9"
  }
 },
 "nbformat": 4,
 "nbformat_minor": 2
}
