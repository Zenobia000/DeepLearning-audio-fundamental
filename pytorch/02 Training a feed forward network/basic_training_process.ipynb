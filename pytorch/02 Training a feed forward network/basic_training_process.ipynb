{
 "cells": [
  {
   "cell_type": "code",
   "execution_count": 27,
   "metadata": {},
   "outputs": [],
   "source": [
    "import torch\n",
    "from torch import nn\n",
    "from torch.utils.data import DataLoader\n",
    "from torchvision import datasets\n",
    "from torchvision.transforms import ToTensor"
   ]
  },
  {
   "cell_type": "markdown",
   "metadata": {},
   "source": [
    "# 1- download dataset\n"
   ]
  },
  {
   "cell_type": "code",
   "execution_count": 28,
   "metadata": {},
   "outputs": [],
   "source": [
    "def download_mnist_data():\n",
    "    train_data = datasets.MNIST(\n",
    "        root = \"data\",\n",
    "        download=True,\n",
    "        train=True,\n",
    "        transform = ToTensor()\n",
    "    )\n",
    "\n",
    "    validation_data = datasets.MNIST(\n",
    "        root = \"data\",\n",
    "        download=True,\n",
    "        train=False,\n",
    "        transform = ToTensor()\n",
    "    )\n",
    "    \n",
    "    return train_data, validation_data\n"
   ]
  },
  {
   "cell_type": "code",
   "execution_count": 29,
   "metadata": {},
   "outputs": [
    {
     "name": "stdout",
     "output_type": "stream",
     "text": [
      "MNIST_data+download\n"
     ]
    }
   ],
   "source": [
    "# download MNIST dataset\n",
    "train_data, _ = download_mnist_data()\n",
    "\n",
    "print(\"MNIST_data+download\")\n"
   ]
  },
  {
   "cell_type": "markdown",
   "metadata": {},
   "source": [
    "# 2- create data loader\n"
   ]
  },
  {
   "cell_type": "code",
   "execution_count": 30,
   "metadata": {},
   "outputs": [],
   "source": [
    "BATCH_SIZE = 128\n",
    "\n",
    "train_data_loader = DataLoader(train_data, batch_size=BATCH_SIZE)"
   ]
  },
  {
   "cell_type": "markdown",
   "metadata": {},
   "source": [
    "# 3- build model\n"
   ]
  },
  {
   "cell_type": "code",
   "execution_count": 31,
   "metadata": {},
   "outputs": [],
   "source": [
    "class FeedForwardNet(nn.Module):\n",
    "\n",
    "    def __init__(self):\n",
    "        super().__init__()\n",
    "        self.flatten = nn.Flatten()\n",
    "        self.dense_layer = nn.Sequential(\n",
    "            nn.Linear(28*28, 256),\n",
    "            nn.ReLU(),\n",
    "            nn.Linear(256, 10)\n",
    "        )\n",
    "        self.softmax = nn.Softmax(dim=1)\n",
    "    \n",
    "    def forward(self, input_data):\n",
    "        flattened_data = self.flatten(input_data)\n",
    "        logits = self.dense_layer(flattened_data)\n",
    "        predictions = self.softmax(logits)\n",
    "\n",
    "        return predictions \n"
   ]
  },
  {
   "cell_type": "code",
   "execution_count": 32,
   "metadata": {},
   "outputs": [
    {
     "name": "stdout",
     "output_type": "stream",
     "text": [
      "using cuda device\n"
     ]
    }
   ],
   "source": [
    "if torch.cuda.is_available():\n",
    "    device = \"cuda\"\n",
    "else:\n",
    "    device = \"cpu\"\n",
    "\n",
    "print(f\"using {device} device\")\n",
    "\n",
    "feed_forward_net = FeedForwardNet().to(device)"
   ]
  },
  {
   "cell_type": "markdown",
   "metadata": {},
   "source": [
    "# 4- train\n"
   ]
  },
  {
   "cell_type": "code",
   "execution_count": 33,
   "metadata": {},
   "outputs": [],
   "source": [
    "def train_one_epoch(model, data_loader, loss_fn, optimizer, device):\n",
    "    for inputs, targets in data_loader:\n",
    "        inputs, targets = inputs.to(device), targets.to(device)\n",
    "\n",
    "        # calculate loss\n",
    "        predictions = model(inputs)\n",
    "        loss = loss_fn(predictions, targets)\n",
    "\n",
    "        # backpropagate loss and update weights\n",
    "        optimizer.zero_grad()\n",
    "        loss.backward()\n",
    "        optimizer.step()\n",
    "    \n",
    "    print(f\"Loss: {loss.item()}\")\n",
    "        \n",
    "    "
   ]
  },
  {
   "cell_type": "code",
   "execution_count": 34,
   "metadata": {},
   "outputs": [],
   "source": [
    "def train(model, data_loader, loss_fn, optimizer, device, epochs):\n",
    "    for i in range(epochs):\n",
    "        print(f\"Epoch {i+1}\")\n",
    "\n",
    "        train_one_epoch(model, data_loader, loss_fn, optimizer, device)\n",
    "\n",
    "        print(\"---------------\")\n",
    "\n",
    "\n",
    "    print(\"Training is done.\")"
   ]
  },
  {
   "cell_type": "code",
   "execution_count": 35,
   "metadata": {},
   "outputs": [],
   "source": [
    "LEARNING_RATE = 0.001\n",
    "\n",
    "loss_fn = nn.CrossEntropyLoss()\n",
    "optimzer = torch.optim.Adam(feed_forward_net.parameters(),\n",
    "                            lr = LEARNING_RATE)"
   ]
  },
  {
   "cell_type": "code",
   "execution_count": 36,
   "metadata": {},
   "outputs": [
    {
     "name": "stdout",
     "output_type": "stream",
     "text": [
      "Epoch 1\n",
      "Loss: 1.5132404565811157\n",
      "---------------\n",
      "Epoch 2\n",
      "Loss: 1.4961293935775757\n",
      "---------------\n",
      "Epoch 3\n",
      "Loss: 1.492934226989746\n",
      "---------------\n",
      "Epoch 4\n",
      "Loss: 1.4792674779891968\n",
      "---------------\n",
      "Epoch 5\n",
      "Loss: 1.4755655527114868\n",
      "---------------\n",
      "Epoch 6\n",
      "Loss: 1.4733136892318726\n",
      "---------------\n",
      "Epoch 7\n",
      "Loss: 1.4727977514266968\n",
      "---------------\n",
      "Epoch 8\n",
      "Loss: 1.4723819494247437\n",
      "---------------\n",
      "Epoch 9\n",
      "Loss: 1.4730738401412964\n",
      "---------------\n",
      "Epoch 10\n",
      "Loss: 1.4732708930969238\n",
      "---------------\n",
      "Training is done.\n"
     ]
    }
   ],
   "source": [
    "EPOCHS = 10\n",
    "\n",
    "train(feed_forward_net, train_data_loader, loss_fn, optimzer, device, EPOCHS)\n",
    "\n"
   ]
  },
  {
   "cell_type": "markdown",
   "metadata": {},
   "source": [
    "# 5- save trained model"
   ]
  },
  {
   "cell_type": "code",
   "execution_count": 37,
   "metadata": {},
   "outputs": [
    {
     "name": "stdout",
     "output_type": "stream",
     "text": [
      "Model trained and storeed at feedforwardnet.pth\n"
     ]
    }
   ],
   "source": [
    "torch.save(feed_forward_net.state_dict(), \"feedforwardnet.pth\")\n",
    "\n",
    "print(\"Model trained and storeed at feedforwardnet.pth\")"
   ]
  },
  {
   "cell_type": "code",
   "execution_count": null,
   "metadata": {},
   "outputs": [],
   "source": []
  }
 ],
 "metadata": {
  "kernelspec": {
   "display_name": "Python 3",
   "language": "python",
   "name": "python3"
  },
  "language_info": {
   "codemirror_mode": {
    "name": "ipython",
    "version": 3
   },
   "file_extension": ".py",
   "mimetype": "text/x-python",
   "name": "python",
   "nbconvert_exporter": "python",
   "pygments_lexer": "ipython3",
   "version": "3.11.9"
  }
 },
 "nbformat": 4,
 "nbformat_minor": 2
}
